{
  "nbformat": 4,
  "nbformat_minor": 0,
  "metadata": {
    "colab": {
      "name": "Tensorflow Regression.ipynb",
      "provenance": []
    },
    "kernelspec": {
      "name": "python3",
      "display_name": "Python 3"
    }
  },
  "cells": [
    {
      "cell_type": "markdown",
      "metadata": {
        "id": "2LaQN19-OX9O"
      },
      "source": [
        "#Training A Regression Model Using Tensorflow \n",
        "(without tf.estimator)"
      ]
    },
    {
      "cell_type": "markdown",
      "metadata": {
        "id": "cr0QTyoYK_LO"
      },
      "source": [
        "As version of this tensorflow is as 2.3.0 and I am working on v1; hene disabling other behaviours\n",
        "If you don't disable other versions you might face serious errors and issues "
      ]
    },
    {
      "cell_type": "code",
      "metadata": {
        "id": "fiOJWw0diE_Z",
        "outputId": "a6feb540-5ed5-43d6-dca7-16c6dc11a85a",
        "colab": {
          "base_uri": "https://localhost:8080/",
          "height": 87
        }
      },
      "source": [
        "import tensorflow.compat.v1 as tf\n",
        "tf.disable_v2_behavior()"
      ],
      "execution_count": null,
      "outputs": [
        {
          "output_type": "stream",
          "text": [
            "WARNING:tensorflow:From /usr/local/lib/python3.6/dist-packages/tensorflow/python/compat/v2_compat.py:96: disable_resource_variables (from tensorflow.python.ops.variable_scope) is deprecated and will be removed in a future version.\n",
            "Instructions for updating:\n",
            "non-resource variables are not supported in the long term\n"
          ],
          "name": "stdout"
        }
      ]
    },
    {
      "cell_type": "code",
      "metadata": {
        "id": "ZFISs0Bhi1OA"
      },
      "source": [
        "import numpy as np\n",
        "import pandas as pd\n",
        "import matplotlib.pyplot as plt\n"
      ],
      "execution_count": null,
      "outputs": []
    },
    {
      "cell_type": "markdown",
      "metadata": {
        "id": "aMxpzaI_LOYx"
      },
      "source": [
        "Here, we are creating very large dataset consisting of million data points with a single feature"
      ]
    },
    {
      "cell_type": "code",
      "metadata": {
        "id": "PubsZFWujCDI"
      },
      "source": [
        "x_data = np.linspace(0.0,10.1,1000000)"
      ],
      "execution_count": null,
      "outputs": []
    },
    {
      "cell_type": "markdown",
      "metadata": {
        "id": "lT4F8lo1Lan0"
      },
      "source": [
        "Addking some noise to the data, so that model will try to learn more accurately"
      ]
    },
    {
      "cell_type": "code",
      "metadata": {
        "id": "j40PFZcFjHkF"
      },
      "source": [
        "noise = np.random.randn(len(x_data))"
      ],
      "execution_count": null,
      "outputs": []
    },
    {
      "cell_type": "markdown",
      "metadata": {
        "id": "76BMV8PCjR5t"
      },
      "source": [
        "Considering line equation as y = mx+ b\n",
        "where m = 0.5 and b=5"
      ]
    },
    {
      "cell_type": "code",
      "metadata": {
        "id": "yNF1pxNrjLUq"
      },
      "source": [
        "y_true = (0.5 * x_data) + 5 + noise"
      ],
      "execution_count": null,
      "outputs": []
    },
    {
      "cell_type": "markdown",
      "metadata": {
        "id": "HgY2jt1BjaB0"
      },
      "source": [
        "Creating Dataframe "
      ]
    },
    {
      "cell_type": "code",
      "metadata": {
        "id": "PvSvghsyjQKT"
      },
      "source": [
        "x_df = pd.DataFrame(data = x_data, columns = ['X Data'])"
      ],
      "execution_count": null,
      "outputs": []
    },
    {
      "cell_type": "code",
      "metadata": {
        "id": "sJotr4t0jz4k",
        "outputId": "10ab1369-2ea5-4acf-bdf6-bed2b5af5eb0",
        "colab": {
          "base_uri": "https://localhost:8080/",
          "height": 195
        }
      },
      "source": [
        "x_df.head()"
      ],
      "execution_count": null,
      "outputs": [
        {
          "output_type": "execute_result",
          "data": {
            "text/html": [
              "<div>\n",
              "<style scoped>\n",
              "    .dataframe tbody tr th:only-of-type {\n",
              "        vertical-align: middle;\n",
              "    }\n",
              "\n",
              "    .dataframe tbody tr th {\n",
              "        vertical-align: top;\n",
              "    }\n",
              "\n",
              "    .dataframe thead th {\n",
              "        text-align: right;\n",
              "    }\n",
              "</style>\n",
              "<table border=\"1\" class=\"dataframe\">\n",
              "  <thead>\n",
              "    <tr style=\"text-align: right;\">\n",
              "      <th></th>\n",
              "      <th>X Data</th>\n",
              "    </tr>\n",
              "  </thead>\n",
              "  <tbody>\n",
              "    <tr>\n",
              "      <th>0</th>\n",
              "      <td>0.00000</td>\n",
              "    </tr>\n",
              "    <tr>\n",
              "      <th>1</th>\n",
              "      <td>0.00001</td>\n",
              "    </tr>\n",
              "    <tr>\n",
              "      <th>2</th>\n",
              "      <td>0.00002</td>\n",
              "    </tr>\n",
              "    <tr>\n",
              "      <th>3</th>\n",
              "      <td>0.00003</td>\n",
              "    </tr>\n",
              "    <tr>\n",
              "      <th>4</th>\n",
              "      <td>0.00004</td>\n",
              "    </tr>\n",
              "  </tbody>\n",
              "</table>\n",
              "</div>"
            ],
            "text/plain": [
              "    X Data\n",
              "0  0.00000\n",
              "1  0.00001\n",
              "2  0.00002\n",
              "3  0.00003\n",
              "4  0.00004"
            ]
          },
          "metadata": {
            "tags": []
          },
          "execution_count": 12
        }
      ]
    },
    {
      "cell_type": "code",
      "metadata": {
        "id": "Q_x-bn2ZjjzG"
      },
      "source": [
        "y_df = pd.DataFrame(data = y_true, columns = ['Y'])"
      ],
      "execution_count": null,
      "outputs": []
    },
    {
      "cell_type": "code",
      "metadata": {
        "id": "yEfAtiwNj3mI",
        "outputId": "9c3a75a9-a702-4be4-c4c9-f248cd1e01a3",
        "colab": {
          "base_uri": "https://localhost:8080/",
          "height": 195
        }
      },
      "source": [
        "y_df.head()"
      ],
      "execution_count": null,
      "outputs": [
        {
          "output_type": "execute_result",
          "data": {
            "text/html": [
              "<div>\n",
              "<style scoped>\n",
              "    .dataframe tbody tr th:only-of-type {\n",
              "        vertical-align: middle;\n",
              "    }\n",
              "\n",
              "    .dataframe tbody tr th {\n",
              "        vertical-align: top;\n",
              "    }\n",
              "\n",
              "    .dataframe thead th {\n",
              "        text-align: right;\n",
              "    }\n",
              "</style>\n",
              "<table border=\"1\" class=\"dataframe\">\n",
              "  <thead>\n",
              "    <tr style=\"text-align: right;\">\n",
              "      <th></th>\n",
              "      <th>Y</th>\n",
              "    </tr>\n",
              "  </thead>\n",
              "  <tbody>\n",
              "    <tr>\n",
              "      <th>0</th>\n",
              "      <td>6.741363</td>\n",
              "    </tr>\n",
              "    <tr>\n",
              "      <th>1</th>\n",
              "      <td>4.284310</td>\n",
              "    </tr>\n",
              "    <tr>\n",
              "      <th>2</th>\n",
              "      <td>5.973868</td>\n",
              "    </tr>\n",
              "    <tr>\n",
              "      <th>3</th>\n",
              "      <td>4.272675</td>\n",
              "    </tr>\n",
              "    <tr>\n",
              "      <th>4</th>\n",
              "      <td>4.961562</td>\n",
              "    </tr>\n",
              "  </tbody>\n",
              "</table>\n",
              "</div>"
            ],
            "text/plain": [
              "          Y\n",
              "0  6.741363\n",
              "1  4.284310\n",
              "2  5.973868\n",
              "3  4.272675\n",
              "4  4.961562"
            ]
          },
          "metadata": {
            "tags": []
          },
          "execution_count": 13
        }
      ]
    },
    {
      "cell_type": "code",
      "metadata": {
        "id": "k3bFKQJsjsM3"
      },
      "source": [
        "df = pd.concat([x_df,y_df],axis =1)"
      ],
      "execution_count": null,
      "outputs": []
    },
    {
      "cell_type": "code",
      "metadata": {
        "id": "Y-houGIUjxhT",
        "outputId": "7cad16e3-6b85-4f9b-a5ae-19ab4f0153c3",
        "colab": {
          "base_uri": "https://localhost:8080/",
          "height": 195
        }
      },
      "source": [
        "df.head()"
      ],
      "execution_count": null,
      "outputs": [
        {
          "output_type": "execute_result",
          "data": {
            "text/html": [
              "<div>\n",
              "<style scoped>\n",
              "    .dataframe tbody tr th:only-of-type {\n",
              "        vertical-align: middle;\n",
              "    }\n",
              "\n",
              "    .dataframe tbody tr th {\n",
              "        vertical-align: top;\n",
              "    }\n",
              "\n",
              "    .dataframe thead th {\n",
              "        text-align: right;\n",
              "    }\n",
              "</style>\n",
              "<table border=\"1\" class=\"dataframe\">\n",
              "  <thead>\n",
              "    <tr style=\"text-align: right;\">\n",
              "      <th></th>\n",
              "      <th>X Data</th>\n",
              "      <th>Y</th>\n",
              "    </tr>\n",
              "  </thead>\n",
              "  <tbody>\n",
              "    <tr>\n",
              "      <th>0</th>\n",
              "      <td>0.00000</td>\n",
              "      <td>6.741363</td>\n",
              "    </tr>\n",
              "    <tr>\n",
              "      <th>1</th>\n",
              "      <td>0.00001</td>\n",
              "      <td>4.284310</td>\n",
              "    </tr>\n",
              "    <tr>\n",
              "      <th>2</th>\n",
              "      <td>0.00002</td>\n",
              "      <td>5.973868</td>\n",
              "    </tr>\n",
              "    <tr>\n",
              "      <th>3</th>\n",
              "      <td>0.00003</td>\n",
              "      <td>4.272675</td>\n",
              "    </tr>\n",
              "    <tr>\n",
              "      <th>4</th>\n",
              "      <td>0.00004</td>\n",
              "      <td>4.961562</td>\n",
              "    </tr>\n",
              "  </tbody>\n",
              "</table>\n",
              "</div>"
            ],
            "text/plain": [
              "    X Data         Y\n",
              "0  0.00000  6.741363\n",
              "1  0.00001  4.284310\n",
              "2  0.00002  5.973868\n",
              "3  0.00003  4.272675\n",
              "4  0.00004  4.961562"
            ]
          },
          "metadata": {
            "tags": []
          },
          "execution_count": 10
        }
      ]
    },
    {
      "cell_type": "markdown",
      "metadata": {
        "id": "zLojSfOMj7vy"
      },
      "source": [
        "To train such a large data at once containing million points is a big no!!\n",
        "Always create batches of data and then train the model batch wise otherwise you might require a lot of time!!!"
      ]
    },
    {
      "cell_type": "markdown",
      "metadata": {
        "id": "pXd6O18SLlEw"
      },
      "source": [
        "Rather than plotting all million points, we'll plot random 250 data points "
      ]
    },
    {
      "cell_type": "code",
      "metadata": {
        "id": "SEAvafl3kIoH",
        "outputId": "fcc9b219-9130-4b91-b8ec-d2b6152d9c0c",
        "colab": {
          "base_uri": "https://localhost:8080/",
          "height": 296
        }
      },
      "source": [
        "df.sample(n=250).plot(kind ='scatter', x= \"X Data\", y='Y')"
      ],
      "execution_count": null,
      "outputs": [
        {
          "output_type": "execute_result",
          "data": {
            "text/plain": [
              "<matplotlib.axes._subplots.AxesSubplot at 0x7f63bdb63ef0>"
            ]
          },
          "metadata": {
            "tags": []
          },
          "execution_count": 15
        },
        {
          "output_type": "display_data",
          "data": {
            "image/png": "[encoded data removed]",
            "text/plain": [
              "<Figure size 432x288 with 1 Axes>"
            ]
          },
          "metadata": {
            "tags": [],
            "needs_background": "light"
          }
        }
      ]
    },
    {
      "cell_type": "markdown",
      "metadata": {
        "id": "VI87GGiNLuvD"
      },
      "source": [
        "Creating batches of data, so that processing the model becomes easy"
      ]
    },
    {
      "cell_type": "code",
      "metadata": {
        "id": "UGVkNyyTkR5D"
      },
      "source": [
        "batch_size =8"
      ],
      "execution_count": null,
      "outputs": []
    },
    {
      "cell_type": "code",
      "metadata": {
        "id": "qTY6x0JykW5c",
        "outputId": "705557b9-7424-4b9c-b79e-41b066813e81",
        "colab": {
          "base_uri": "https://localhost:8080/",
          "height": 34
        }
      },
      "source": [
        "np.random.randn(2)"
      ],
      "execution_count": null,
      "outputs": [
        {
          "output_type": "execute_result",
          "data": {
            "text/plain": [
              "array([-0.98423926, -1.12768636])"
            ]
          },
          "metadata": {
            "tags": []
          },
          "execution_count": 17
        }
      ]
    },
    {
      "cell_type": "markdown",
      "metadata": {
        "id": "as3UedPwL2WD"
      },
      "source": [
        "Initializing variables with random numbers \n"
      ]
    },
    {
      "cell_type": "code",
      "metadata": {
        "id": "n0zBI3wzkY9o"
      },
      "source": [
        "m = tf.Variable(0.98)\n",
        "b = tf.Variable(1.12)"
      ],
      "execution_count": null,
      "outputs": []
    },
    {
      "cell_type": "code",
      "metadata": {
        "id": "0DEokzLAkeml",
        "outputId": "1f195cc0-2fb0-43de-d463-af8131f20ae3",
        "colab": {
          "base_uri": "https://localhost:8080/",
          "height": 34
        }
      },
      "source": [
        "print(tf.__version__)"
      ],
      "execution_count": null,
      "outputs": [
        {
          "output_type": "stream",
          "text": [
            "2.3.0\n"
          ],
          "name": "stdout"
        }
      ]
    },
    {
      "cell_type": "code",
      "metadata": {
        "id": "prh-I2g8kr3z",
        "outputId": "6a46e6e7-78b5-4067-c5b4-d9049fc4a191",
        "colab": {
          "base_uri": "https://localhost:8080/",
          "height": 34
        }
      },
      "source": [
        "tf.executing_eagerly()"
      ],
      "execution_count": null,
      "outputs": [
        {
          "output_type": "execute_result",
          "data": {
            "text/plain": [
              "False"
            ]
          },
          "metadata": {
            "tags": []
          },
          "execution_count": 20
        }
      ]
    },
    {
      "cell_type": "code",
      "metadata": {
        "id": "QZQtQp3Jkt89"
      },
      "source": [
        "import tensorflow.compat.v1 as tf\n",
        "tf.disable_v2_behavior()"
      ],
      "execution_count": null,
      "outputs": []
    },
    {
      "cell_type": "markdown",
      "metadata": {
        "id": "FKNy8nuoMJlh"
      },
      "source": [
        "Using placeholders for x & y "
      ]
    },
    {
      "cell_type": "code",
      "metadata": {
        "id": "h6ikLjAgkwGR"
      },
      "source": [
        "xph = tf.placeholder(tf.float32, [batch_size])\n",
        "yph = tf.placeholder(tf.float32, [batch_size])"
      ],
      "execution_count": null,
      "outputs": []
    },
    {
      "cell_type": "markdown",
      "metadata": {
        "id": "hJXMjSqZlBbt"
      },
      "source": [
        "Defining Graphs"
      ]
    },
    {
      "cell_type": "code",
      "metadata": {
        "id": "h6WbeRQdk_KB"
      },
      "source": [
        "y_model = m*xph +b"
      ],
      "execution_count": null,
      "outputs": []
    },
    {
      "cell_type": "markdown",
      "metadata": {
        "id": "OqktBHfSMQa_"
      },
      "source": [
        "Introducing error and minizing the loss function using Gradient Descent Optimizer "
      ]
    },
    {
      "cell_type": "code",
      "metadata": {
        "id": "ZflQHGNzlFnb"
      },
      "source": [
        "error = tf.reduce_sum(tf.square(yph - y_model))"
      ],
      "execution_count": null,
      "outputs": []
    },
    {
      "cell_type": "code",
      "metadata": {
        "id": "tL4xQj82lknQ"
      },
      "source": [
        "optimizer = tf.train.GradientDescentOptimizer(learning_rate=0.001)"
      ],
      "execution_count": null,
      "outputs": []
    },
    {
      "cell_type": "code",
      "metadata": {
        "id": "xfeRGZpalp1e"
      },
      "source": [
        "train = optimizer.minimize(error)"
      ],
      "execution_count": null,
      "outputs": []
    },
    {
      "cell_type": "code",
      "metadata": {
        "id": "wLXt1Mj5ltQb"
      },
      "source": [
        "init = tf.global_variables_initializer()"
      ],
      "execution_count": 34,
      "outputs": []
    },
    {
      "cell_type": "markdown",
      "metadata": {
        "id": "58RyID4gMxUD"
      },
      "source": [
        "Below we will be running these batches of data to train the model "
      ]
    },
    {
      "cell_type": "code",
      "metadata": {
        "id": "1NrRHwoflwVz"
      },
      "source": [
        "with tf.Session() as sess:\n",
        "  sess.run(init)\n",
        "\n",
        "  batches = 1000\n",
        "  for i in range(batches):\n",
        "    rand_index = np.random.randint(len(x_data),size = batch_size)\n",
        "    feed = {xph : x_data[rand_index], yph : y_true[rand_index]}\n",
        "    sess.run(train, feed_dict = feed)\n",
        "\n",
        "  model_m, model_b =  sess.run([m,b])"
      ],
      "execution_count": 39,
      "outputs": []
    },
    {
      "cell_type": "markdown",
      "metadata": {
        "id": "rH0nS7inNKCv"
      },
      "source": [
        "Hooray! The model is been trained and now it's time to check the accuracy\n",
        "\n",
        "The values of m should be 0.5 and b should be 5 as defined earlier ....\n",
        "\n",
        "Please remember we started with values for m as 0.98 and b as 1.12 "
      ]
    },
    {
      "cell_type": "code",
      "metadata": {
        "id": "CAfJjpT7mO6X",
        "outputId": "2bd62440-f11f-43ff-e6c2-6e7f0c241d00",
        "colab": {
          "base_uri": "https://localhost:8080/",
          "height": 34
        }
      },
      "source": [
        "model_m"
      ],
      "execution_count": 40,
      "outputs": [
        {
          "output_type": "execute_result",
          "data": {
            "text/plain": [
              "0.49518034"
            ]
          },
          "metadata": {
            "tags": []
          },
          "execution_count": 40
        }
      ]
    },
    {
      "cell_type": "markdown",
      "metadata": {
        "id": "oOKj5c3aNfnP"
      },
      "source": [
        "As we can see, the value of m tends to 0.5 almost!"
      ]
    },
    {
      "cell_type": "code",
      "metadata": {
        "id": "uVQ0U2Sc93Rb",
        "outputId": "3fad4cf8-0c91-4550-a170-3afefd2af424",
        "colab": {
          "base_uri": "https://localhost:8080/",
          "height": 34
        }
      },
      "source": [
        "model_b"
      ],
      "execution_count": 41,
      "outputs": [
        {
          "output_type": "execute_result",
          "data": {
            "text/plain": [
              "4.922052"
            ]
          },
          "metadata": {
            "tags": []
          },
          "execution_count": 41
        }
      ]
    },
    {
      "cell_type": "markdown",
      "metadata": {
        "id": "V-CKulhNNjB9"
      },
      "source": [
        "And the value of b is near to 5"
      ]
    },
    {
      "cell_type": "markdown",
      "metadata": {
        "id": "CS5dZ2hPNmc6"
      },
      "source": [
        "This means our model is been predicitng correctly ...\n",
        "\n",
        "To get more accurate values; we need to increase the number of batches..\n"
      ]
    },
    {
      "cell_type": "markdown",
      "metadata": {
        "id": "VF8kELojN0wB"
      },
      "source": [
        "#HiGh Alert\n",
        "\n",
        "Don't too much increase your number of batches, else it will OVERFIT your model"
      ]
    },
    {
      "cell_type": "code",
      "metadata": {
        "id": "ftniiCR-98Q4"
      },
      "source": [
        "y_hat = x_data * model_m + model_b"
      ],
      "execution_count": 42,
      "outputs": []
    },
    {
      "cell_type": "code",
      "metadata": {
        "id": "DiAQ8sZN-DJK",
        "outputId": "23de2c76-9336-4b77-887c-206bc18662e6",
        "colab": {
          "base_uri": "https://localhost:8080/",
          "height": 296
        }
      },
      "source": [
        "df.sample(n=250).plot(kind ='scatter', x='X Data', y='Y')\n",
        "plt.plot(x_data,y_hat,'r')"
      ],
      "execution_count": 43,
      "outputs": [
        {
          "output_type": "execute_result",
          "data": {
            "text/plain": [
              "[<matplotlib.lines.Line2D at 0x7f63bddab9b0>]"
            ]
          },
          "metadata": {
            "tags": []
          },
          "execution_count": 43
        },
        {
          "output_type": "display_data",
          "data": {
            "image/png": "[encoded data removed]",
            "text/plain": [
              "<Figure size 432x288 with 1 Axes>"
            ]
          },
          "metadata": {
            "tags": [],
            "needs_background": "light"
          }
        }
      ]
    },
    {
      "cell_type": "markdown",
      "metadata": {
        "id": "nUUwApD9OB8r"
      },
      "source": [
        "As we can see, the blue line is 250 sample data points and red line plotted is our model.\n",
        "\n",
        "Our model seems to fit pretty much!\n",
        "Don't expect all points to collide with line as we have added noise!!"
      ]
    }
  ]
}