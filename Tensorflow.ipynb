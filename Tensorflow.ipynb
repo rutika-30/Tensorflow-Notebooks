{
  "nbformat": 4,
  "nbformat_minor": 0,
  "metadata": {
    "colab": {
      "name": "Tensorflow.ipynb",
      "provenance": []
    },
    "kernelspec": {
      "name": "python3",
      "display_name": "Python 3"
    }
  },
  "cells": [
    {
      "cell_type": "markdown",
      "metadata": {
        "id": "WKl_P3l8uGI-"
      },
      "source": [
        "\n",
        "##This is a notebook showing basics of tensorflow and implementing a small neural network and Simple Regression Model\n"
      ]
    },
    {
      "cell_type": "code",
      "metadata": {
        "id": "41WXUvEGI9y2",
        "outputId": "b7110efe-3d38-4584-e35b-9042ad4ffa89",
        "colab": {
          "base_uri": "https://localhost:8080/",
          "height": 34
        }
      },
      "source": [
        "print(tf.__version__)"
      ],
      "execution_count": 30,
      "outputs": [
        {
          "output_type": "stream",
          "text": [
            "2.3.0\n"
          ],
          "name": "stdout"
        }
      ]
    },
    {
      "cell_type": "code",
      "metadata": {
        "id": "urwRwuVfJNQ6",
        "outputId": "fb1c40d7-05e9-4fa6-e45e-59ac2d79aa93",
        "colab": {
          "base_uri": "https://localhost:8080/",
          "height": 34
        }
      },
      "source": [
        "tf.executing_eagerly()"
      ],
      "execution_count": 32,
      "outputs": [
        {
          "output_type": "execute_result",
          "data": {
            "text/plain": [
              "True"
            ]
          },
          "metadata": {
            "tags": []
          },
          "execution_count": 32
        }
      ]
    },
    {
      "cell_type": "markdown",
      "metadata": {
        "id": "BFrJv2LSuThq"
      },
      "source": [
        "As version of this tensorflow is as 2.3.0 and I am working on v1; hene disabling other behaviours\n",
        "# IF you don't disable other versions you might face serious errors and issues "
      ]
    },
    {
      "cell_type": "code",
      "metadata": {
        "id": "k_hFjQwYLv0r",
        "outputId": "98605c32-4a0c-4002-fa5a-555296a64da8",
        "colab": {
          "base_uri": "https://localhost:8080/",
          "height": 87
        }
      },
      "source": [
        "import tensorflow.compat.v1 as tf\n",
        "tf.disable_v2_behavior()"
      ],
      "execution_count": 45,
      "outputs": [
        {
          "output_type": "stream",
          "text": [
            "WARNING:tensorflow:From /usr/local/lib/python3.6/dist-packages/tensorflow/python/compat/v2_compat.py:96: disable_resource_variables (from tensorflow.python.ops.variable_scope) is deprecated and will be removed in a future version.\n",
            "Instructions for updating:\n",
            "non-resource variables are not supported in the long term\n"
          ],
          "name": "stdout"
        }
      ]
    },
    {
      "cell_type": "code",
      "metadata": {
        "id": "E5sYNLcjUPvp"
      },
      "source": [
        ""
      ],
      "execution_count": 98,
      "outputs": []
    },
    {
      "cell_type": "markdown",
      "metadata": {
        "id": "7BJIZG3iuamC"
      },
      "source": [
        "#Some basic pre-processing and data collection"
      ]
    },
    {
      "cell_type": "code",
      "metadata": {
        "id": "rig4u9ssJmAs"
      },
      "source": [
        "a = tf.constant([[1,2], [3, 4]])"
      ],
      "execution_count": 34,
      "outputs": []
    },
    {
      "cell_type": "code",
      "metadata": {
        "id": "QD03unmAJurc"
      },
      "source": [
        "np.random.seed(101)"
      ],
      "execution_count": 37,
      "outputs": []
    },
    {
      "cell_type": "code",
      "metadata": {
        "id": "xsip9apVKOZx"
      },
      "source": [
        "import numpy as np"
      ],
      "execution_count": 36,
      "outputs": []
    },
    {
      "cell_type": "code",
      "metadata": {
        "id": "r7F-gZlUKpV_"
      },
      "source": [
        "rand_a = np.random.uniform(0,100,[5,5])"
      ],
      "execution_count": 42,
      "outputs": []
    },
    {
      "cell_type": "code",
      "metadata": {
        "id": "F9qE1sUJKwZ6"
      },
      "source": [
        "rand_b = np.random.uniform(0,100,[5,1])"
      ],
      "execution_count": 43,
      "outputs": []
    },
    {
      "cell_type": "code",
      "metadata": {
        "id": "sOR4jWYMLrsu"
      },
      "source": [
        "a = tf.placeholder(tf.float32)"
      ],
      "execution_count": 46,
      "outputs": []
    },
    {
      "cell_type": "code",
      "metadata": {
        "id": "Ee3T58-wMJ_B"
      },
      "source": [
        "b = tf.placeholder(tf.float32)"
      ],
      "execution_count": 48,
      "outputs": []
    },
    {
      "cell_type": "code",
      "metadata": {
        "id": "quwK4Dj7MPmj"
      },
      "source": [
        "add_op = a+b\n",
        "mul_op = a*b"
      ],
      "execution_count": 49,
      "outputs": []
    },
    {
      "cell_type": "code",
      "metadata": {
        "id": "MpHdK5y7MWuX",
        "outputId": "4130aeff-05d0-49bb-d2e2-3ee6fb12d346",
        "colab": {
          "base_uri": "https://localhost:8080/",
          "height": 50
        }
      },
      "source": [
        "with tf.Session() as sess:\n",
        "  add_result = sess.run(add_op, feed_dict={a:10,b:20})\n",
        "  print(add_result)\n",
        "\n",
        "  multiply_result = sess.run(mul_op, feed_dict={a:10,b:5})\n",
        "  print(multiply_result)\n",
        "\n"
      ],
      "execution_count": 51,
      "outputs": [
        {
          "output_type": "stream",
          "text": [
            "30.0\n",
            "50.0\n"
          ],
          "name": "stdout"
        }
      ]
    },
    {
      "cell_type": "markdown",
      "metadata": {
        "id": "djEHSOEOuc-A"
      },
      "source": [
        "#Neural Networks"
      ]
    },
    {
      "cell_type": "code",
      "metadata": {
        "id": "FZuqq6DwM1Qt"
      },
      "source": [
        "n_features = 10"
      ],
      "execution_count": 1,
      "outputs": []
    },
    {
      "cell_type": "code",
      "metadata": {
        "id": "KLisXXQzM34z"
      },
      "source": [
        "n_dense_neurons = 3"
      ],
      "execution_count": 54,
      "outputs": []
    },
    {
      "cell_type": "code",
      "metadata": {
        "id": "RrAk1xpyM53Q"
      },
      "source": [
        "x= tf.placeholder(tf.float32, shape=(None,n_features))"
      ],
      "execution_count": 55,
      "outputs": []
    },
    {
      "cell_type": "code",
      "metadata": {
        "id": "x994TDq9NEfP"
      },
      "source": [
        "w = tf.Variable(tf.random_normal([n_features,n_dense_neurons]))"
      ],
      "execution_count": 56,
      "outputs": []
    },
    {
      "cell_type": "code",
      "metadata": {
        "id": "n8pwDLiVNUzH"
      },
      "source": [
        "b = tf.Variable (tf.ones([n_dense_neurons]))"
      ],
      "execution_count": 57,
      "outputs": []
    },
    {
      "cell_type": "code",
      "metadata": {
        "id": "gZIZc3uWNaVZ"
      },
      "source": [
        "xw = tf.matmul(x,w)"
      ],
      "execution_count": 58,
      "outputs": []
    },
    {
      "cell_type": "code",
      "metadata": {
        "id": "GrgDzLtqNf5J"
      },
      "source": [
        "z = tf.add(xw, b)"
      ],
      "execution_count": 59,
      "outputs": []
    },
    {
      "cell_type": "code",
      "metadata": {
        "id": "-FcTb5TRNjKk"
      },
      "source": [
        "a = tf.sigmoid(z)"
      ],
      "execution_count": 60,
      "outputs": []
    },
    {
      "cell_type": "code",
      "metadata": {
        "id": "wH0d3RkhNmXo"
      },
      "source": [
        "init = tf.global_variables_initializer()"
      ],
      "execution_count": 61,
      "outputs": []
    },
    {
      "cell_type": "code",
      "metadata": {
        "id": "S7NKEoK1Nr4C",
        "outputId": "5e29c526-af43-4fb5-a345-ca00e69aec24",
        "colab": {
          "base_uri": "https://localhost:8080/",
          "height": 34
        }
      },
      "source": [
        "with tf.Session() as sess:\n",
        "  sess.run(init)\n",
        "  layer_out = sess.run(a, feed_dict={x:np.random.random([1,n_features])})\n",
        "  print(layer_out)"
      ],
      "execution_count": 63,
      "outputs": [
        {
          "output_type": "stream",
          "text": [
            "[[0.63450253 0.97408205 0.5817766 ]]\n"
          ],
          "name": "stdout"
        }
      ]
    },
    {
      "cell_type": "markdown",
      "metadata": {
        "id": "V4a5C5QbugRv"
      },
      "source": [
        "# Simple regression example"
      ]
    },
    {
      "cell_type": "code",
      "metadata": {
        "id": "Ny39_M1kQZrp"
      },
      "source": [
        "import matplotlib.pyplot as plt"
      ],
      "execution_count": 67,
      "outputs": []
    },
    {
      "cell_type": "code",
      "metadata": {
        "id": "ot_EsX-fQb6l"
      },
      "source": [
        "x_data  = np.linspace(0,10,10) + np.random.uniform(-1.5,1.5,10)"
      ],
      "execution_count": 69,
      "outputs": []
    },
    {
      "cell_type": "code",
      "metadata": {
        "id": "2bp-geJLQwrG"
      },
      "source": [
        "y_label = np.linspace(0,10,10) + np.random.uniform(-1.5,1.5,10)"
      ],
      "execution_count": 71,
      "outputs": []
    },
    {
      "cell_type": "code",
      "metadata": {
        "id": "F_7l3F5NQ4sG",
        "outputId": "58726009-5156-4644-e770-f27ecf158e71",
        "colab": {
          "base_uri": "https://localhost:8080/",
          "height": 285
        }
      },
      "source": [
        "plt.plot(x_data,y_label,'*')"
      ],
      "execution_count": 73,
      "outputs": [
        {
          "output_type": "execute_result",
          "data": {
            "text/plain": [
              "[<matplotlib.lines.Line2D at 0x7f87a16a89b0>]"
            ]
          },
          "metadata": {
            "tags": []
          },
          "execution_count": 73
        },
        {
          "output_type": "display_data",
          "data": {
            "image/png": "[encoded data removed]",
            "text/plain": [
              "<Figure size 432x288 with 1 Axes>"
            ]
          },
          "metadata": {
            "tags": [],
            "needs_background": "light"
          }
        }
      ]
    },
    {
      "cell_type": "code",
      "metadata": {
        "id": "icAYgK5FQ83y"
      },
      "source": [
        ""
      ],
      "execution_count": 74,
      "outputs": []
    },
    {
      "cell_type": "markdown",
      "metadata": {
        "id": "zJtaC1-ZujTc"
      },
      "source": [
        "# equaltion of line is \" Y= MX+ C\""
      ]
    },
    {
      "cell_type": "code",
      "metadata": {
        "id": "pbV7gJbpREpQ"
      },
      "source": [
        ""
      ],
      "execution_count": 75,
      "outputs": []
    },
    {
      "cell_type": "markdown",
      "metadata": {
        "id": "0AfEQYUHuk9F"
      },
      "source": [
        "# CONSIDERING 2 RANDOM POINTS "
      ]
    },
    {
      "cell_type": "code",
      "metadata": {
        "id": "HTrG4oG1RHuD",
        "outputId": "20dfe5e2-bcdf-4d43-c96c-63351feac42c",
        "colab": {
          "base_uri": "https://localhost:8080/",
          "height": 34
        }
      },
      "source": [
        "np.random.rand(2)"
      ],
      "execution_count": 76,
      "outputs": [
        {
          "output_type": "execute_result",
          "data": {
            "text/plain": [
              "array([0.78452185, 0.68724204])"
            ]
          },
          "metadata": {
            "tags": []
          },
          "execution_count": 76
        }
      ]
    },
    {
      "cell_type": "code",
      "metadata": {
        "id": "tY-oE06sRKrQ"
      },
      "source": [
        "m = tf.Variable(0.78)"
      ],
      "execution_count": 77,
      "outputs": []
    },
    {
      "cell_type": "code",
      "metadata": {
        "id": "tLyTdZaMRO4q"
      },
      "source": [
        "b = tf.Variable(0.68)"
      ],
      "execution_count": 78,
      "outputs": []
    },
    {
      "cell_type": "code",
      "metadata": {
        "id": "YU5GYUGZRRWr"
      },
      "source": [
        "# COMPUTING COST FUNCTION"
      ],
      "execution_count": 79,
      "outputs": []
    },
    {
      "cell_type": "code",
      "metadata": {
        "id": "CKGP3z00RT19"
      },
      "source": [
        "#Define error rate\n",
        "error= 0\n",
        "for x,y in zip(x_data,y_label):\n",
        "  y_hat = m*x + b\n",
        "\n",
        "# here, y_hat is predicted value of y; after training on data\n",
        "  error += (y-y_hat)**2"
      ],
      "execution_count": 80,
      "outputs": []
    },
    {
      "cell_type": "code",
      "metadata": {
        "id": "7EbBUDk4RnG1"
      },
      "source": [
        ""
      ],
      "execution_count": 81,
      "outputs": []
    },
    {
      "cell_type": "markdown",
      "metadata": {
        "id": "yX322gjKuoj0"
      },
      "source": [
        "# Optimizing function"
      ]
    },
    {
      "cell_type": "markdown",
      "metadata": {
        "id": "xTJRxhd_uqqs"
      },
      "source": [
        " here, we are using Gradient Descent !"
      ]
    },
    {
      "cell_type": "code",
      "metadata": {
        "id": "BtDiFr-iRs4z"
      },
      "source": [
        "optimizer  = tf.train.GradientDescentOptimizer(learning_rate=0.001)"
      ],
      "execution_count": 83,
      "outputs": []
    },
    {
      "cell_type": "markdown",
      "metadata": {
        "id": "2antw4PruuYk"
      },
      "source": [
        "Here as we are computing error rate; it need to be minimized."
      ]
    },
    {
      "cell_type": "code",
      "metadata": {
        "id": "nkXAcs3hR2MK"
      },
      "source": [
        "train = optimizer.minimize(error)"
      ],
      "execution_count": 84,
      "outputs": []
    },
    {
      "cell_type": "code",
      "metadata": {
        "id": "p11vArRJSiQO"
      },
      "source": [
        "init = tf.global_variables_initializer()"
      ],
      "execution_count": 87,
      "outputs": []
    },
    {
      "cell_type": "code",
      "metadata": {
        "id": "68TXHHC-R5rR"
      },
      "source": [
        "with tf.Session() as sess:\n",
        "  sess.run(init)\n",
        "  #Keeping no of training steps as 1, initially;\n",
        "  training_steps = 1\n",
        "  for i in range(training_steps):\n",
        "    sess.run(train)\n",
        "  final_slope, final_intercept = sess.run([m,b])\n"
      ],
      "execution_count": 88,
      "outputs": []
    },
    {
      "cell_type": "code",
      "metadata": {
        "id": "loxVqvNsSYb9"
      },
      "source": [
        "X_test = np.linspace(-1,11,10)"
      ],
      "execution_count": 89,
      "outputs": []
    },
    {
      "cell_type": "code",
      "metadata": {
        "id": "1xr2ThuCTFNp"
      },
      "source": [
        "y_pred_plot = final_slope*X_test + final_intercept"
      ],
      "execution_count": 90,
      "outputs": []
    },
    {
      "cell_type": "code",
      "metadata": {
        "id": "TxdwXXQMTMbO",
        "outputId": "cfa0f1fe-bc31-4632-c2ba-8b3c11b06437",
        "colab": {
          "base_uri": "https://localhost:8080/",
          "height": 282
        }
      },
      "source": [
        "plt.plot(X_test, y_pred_plot)"
      ],
      "execution_count": 91,
      "outputs": [
        {
          "output_type": "execute_result",
          "data": {
            "text/plain": [
              "[<matplotlib.lines.Line2D at 0x7f87a0e5d208>]"
            ]
          },
          "metadata": {
            "tags": []
          },
          "execution_count": 91
        },
        {
          "output_type": "display_data",
          "data": {
            "image/png": "[encoded data removed]",
            "text/plain": [
              "<Figure size 432x288 with 1 Axes>"
            ]
          },
          "metadata": {
            "tags": [],
            "needs_background": "light"
          }
        }
      ]
    },
    {
      "cell_type": "code",
      "metadata": {
        "id": "ahvIO73TTP24",
        "outputId": "f1b4c72c-11fd-4242-a90c-d1620325621a",
        "colab": {
          "base_uri": "https://localhost:8080/",
          "height": 282
        }
      },
      "source": [
        "plt.plot(X_test, y_pred_plot,'*')"
      ],
      "execution_count": 92,
      "outputs": [
        {
          "output_type": "execute_result",
          "data": {
            "text/plain": [
              "[<matplotlib.lines.Line2D at 0x7f87a0e3a438>]"
            ]
          },
          "metadata": {
            "tags": []
          },
          "execution_count": 92
        },
        {
          "output_type": "display_data",
          "data": {
            "image/png": "[encoded data removed]",
            "text/plain": [
              "<Figure size 432x288 with 1 Axes>"
            ]
          },
          "metadata": {
            "tags": [],
            "needs_background": "light"
          }
        }
      ]
    },
    {
      "cell_type": "code",
      "metadata": {
        "id": "BABMVT2nTWGt"
      },
      "source": [
        " "
      ],
      "execution_count": 94,
      "outputs": []
    },
    {
      "cell_type": "markdown",
      "metadata": {
        "id": "sq7WHkpQuxv-"
      },
      "source": [
        "# Speaking of which, after looking into the plot of test data versus the predicted values; it is a straight line.\n",
        " # Hence, our model is sucessfully deployed with minimalist rate"
      ]
    },
    {
      "cell_type": "code",
      "metadata": {
        "id": "XHs7cKnXTfl_"
      },
      "source": [
        ""
      ],
      "execution_count": null,
      "outputs": []
    }
  ]
}